{
 "cells": [
  {
   "cell_type": "markdown",
   "metadata": {},
   "source": [
    "Download dataset from gdrive"
   ]
  },
  {
   "cell_type": "code",
   "execution_count": 1,
   "metadata": {},
   "outputs": [],
   "source": [
    "import gdown"
   ]
  },
  {
   "cell_type": "code",
   "execution_count": 2,
   "metadata": {},
   "outputs": [
    {
     "name": "stdout",
     "output_type": "stream",
     "text": [
      "1GNHSS92J3fSfRGLHyNi7rq5iL1GnJKld\n"
     ]
    }
   ],
   "source": [
    "url = \"https://drive.google.com/file/d/1GNHSS92J3fSfRGLHyNi7rq5iL1GnJKld/view?usp=sharing\"\n",
    "\n",
    "file_id = url.split('/')[-2]\n",
    "\n",
    "print(file_id)"
   ]
  },
  {
   "cell_type": "code",
   "execution_count": 3,
   "metadata": {},
   "outputs": [
    {
     "name": "stderr",
     "output_type": "stream",
     "text": [
      "Downloading...\n",
      "From (original): https://drive.google.com/uc?/export=download&id=1GNHSS92J3fSfRGLHyNi7rq5iL1GnJKld\n",
      "From (redirected): https://drive.google.com/uc?%2Fexport=download&id=1GNHSS92J3fSfRGLHyNi7rq5iL1GnJKld&confirm=t&uuid=19c13991-d271-4519-b989-fa171547ad4a\n",
      "To: c:\\Users\\navee\\OneDrive\\Documents\\End-to-End-Cancer-Detection\\research\\Chest-CT-Scan-data.zip\n",
      "100%|██████████| 49.0M/49.0M [00:04<00:00, 10.4MB/s]\n"
     ]
    },
    {
     "data": {
      "text/plain": [
       "'Chest-CT-Scan-data.zip'"
      ]
     },
     "execution_count": 3,
     "metadata": {},
     "output_type": "execute_result"
    }
   ],
   "source": [
    "prefix = 'https://drive.google.com/uc?/export=download&id='\n",
    "gdown.download(prefix+file_id, 'Chest-CT-Scan-data.zip')"
   ]
  }
 ],
 "metadata": {
  "kernelspec": {
   "display_name": "cancer",
   "language": "python",
   "name": "python3"
  },
  "language_info": {
   "codemirror_mode": {
    "name": "ipython",
    "version": 3
   },
   "file_extension": ".py",
   "mimetype": "text/x-python",
   "name": "python",
   "nbconvert_exporter": "python",
   "pygments_lexer": "ipython3",
   "version": "3.12.2"
  }
 },
 "nbformat": 4,
 "nbformat_minor": 2
}
